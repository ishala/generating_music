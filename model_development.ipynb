{
 "cells": [
  {
   "cell_type": "code",
   "execution_count": 2,
   "metadata": {},
   "outputs": [],
   "source": [
    "import pandas as pd\n",
    "import matplotlib.pyplot as plt"
   ]
  },
  {
   "cell_type": "code",
   "execution_count": 3,
   "metadata": {},
   "outputs": [],
   "source": [
    "ROOT_DATA = 'data'\n",
    "\n",
    "consoleDf = pd.read_csv(f'{ROOT_DATA}/tempConsole.csv')\n",
    "computerDf = pd.read_csv(f'{ROOT_DATA}/tempComputer.csv')"
   ]
  },
  {
   "cell_type": "code",
   "execution_count": 4,
   "metadata": {},
   "outputs": [
    {
     "data": {
      "text/html": [
       "<div>\n",
       "<style scoped>\n",
       "    .dataframe tbody tr th:only-of-type {\n",
       "        vertical-align: middle;\n",
       "    }\n",
       "\n",
       "    .dataframe tbody tr th {\n",
       "        vertical-align: top;\n",
       "    }\n",
       "\n",
       "    .dataframe thead th {\n",
       "        text-align: right;\n",
       "    }\n",
       "</style>\n",
       "<table border=\"1\" class=\"dataframe\">\n",
       "  <thead>\n",
       "    <tr style=\"text-align: right;\">\n",
       "      <th></th>\n",
       "      <th>url</th>\n",
       "      <th>song_file</th>\n",
       "      <th>song_name</th>\n",
       "      <th>Credit</th>\n",
       "      <th>index</th>\n",
       "      <th>game</th>\n",
       "      <th>company</th>\n",
       "      <th>console</th>\n",
       "      <th>abc_notation</th>\n",
       "      <th>tempo_value</th>\n",
       "      <th>interval</th>\n",
       "      <th>rhythm_patterns</th>\n",
       "      <th>scale</th>\n",
       "      <th>pitch_range</th>\n",
       "    </tr>\n",
       "  </thead>\n",
       "  <tbody>\n",
       "    <tr>\n",
       "      <th>0</th>\n",
       "      <td>https://www.vgmusic.com/music/console/3do/3do/...</td>\n",
       "      <td>kittytheme.mid</td>\n",
       "      <td>Kitty's Theme</td>\n",
       "      <td>G-Han\\n\\n</td>\n",
       "      <td>24818</td>\n",
       "      <td>Montana Jones (Japan)</td>\n",
       "      <td>3do</td>\n",
       "      <td>3do</td>\n",
       "      <td>X:1\\nT:Extracted Melody\\nM:4/4\\nK:C\\nQ:1.0/4=1...</td>\n",
       "      <td>128.0</td>\n",
       "      <td>['d19', 'P1', 'M3', 'M3', 'm21', 'M3', 'm17', ...</td>\n",
       "      <td>[0.5, 0.5, 0.5, 0.5, 0.5, 0.5, 0.5, 0.5, 0.5, ...</td>\n",
       "      <td>minor</td>\n",
       "      <td>M23</td>\n",
       "    </tr>\n",
       "    <tr>\n",
       "      <th>1</th>\n",
       "      <td>https://www.vgmusic.com/music/console/3do/3do/...</td>\n",
       "      <td>Rest_MJ.mid</td>\n",
       "      <td>Overworld Theme - \"Rest\"</td>\n",
       "      <td>Guan van Zoggel\\n\\n</td>\n",
       "      <td>24819</td>\n",
       "      <td>Montana Jones (Japan)</td>\n",
       "      <td>3do</td>\n",
       "      <td>3do</td>\n",
       "      <td>X:1\\nT:Extracted Melody\\nM:4/4\\nK:C\\nQ:1.0/4=1...</td>\n",
       "      <td>105.0</td>\n",
       "      <td>['m6', 'P4', 'P1', 'm3', 'm6', 'P5', 'M3', 'P4...</td>\n",
       "      <td>[0.5, 0.5, 0.5, 0.5, 0.5, 0.5, 0.5, 0.5, 0.5, ...</td>\n",
       "      <td>minor</td>\n",
       "      <td>M9</td>\n",
       "    </tr>\n",
       "    <tr>\n",
       "      <th>2</th>\n",
       "      <td>https://www.vgmusic.com/music/console/3do/3do/...</td>\n",
       "      <td>return_the_stolen.mid</td>\n",
       "      <td>Return The Stolen (Jazz Rock Remix)</td>\n",
       "      <td>DoKoCo\\n\\n</td>\n",
       "      <td>24820</td>\n",
       "      <td>Montana Jones (Japan)</td>\n",
       "      <td>3do</td>\n",
       "      <td>3do</td>\n",
       "      <td>X:1\\nT:Extracted Melody\\nM:4/4\\nK:C\\nQ:1.0/4=1...</td>\n",
       "      <td>129.0</td>\n",
       "      <td>['P4', 'm3', 'm6', 'P4', 'm3', 'm6', 'P4', 'm3...</td>\n",
       "      <td>[0.5, 0.5, 0.5, 0.5, 0.5, 0.5, 0.5, 0.5, 0.5, ...</td>\n",
       "      <td>minor</td>\n",
       "      <td>M9</td>\n",
       "    </tr>\n",
       "    <tr>\n",
       "      <th>3</th>\n",
       "      <td>https://www.vgmusic.com/music/console/3do/3do/...</td>\n",
       "      <td>urquan.mid</td>\n",
       "      <td>Ur-Quan Kzer-Za</td>\n",
       "      <td>Kirill Podzorov\\n\\n</td>\n",
       "      <td>24823</td>\n",
       "      <td>Star Control 2</td>\n",
       "      <td>3do</td>\n",
       "      <td>3do</td>\n",
       "      <td>X:1\\nT:Extracted Melody\\nM:4/4\\nK:C\\nQ:1/4=125...</td>\n",
       "      <td>125.0</td>\n",
       "      <td>['P1', 'M2', 'm2', 'm2', 'M2', 'P1', 'P1', 'P1...</td>\n",
       "      <td>[0.5, 0.5, 0.5, 0.5, 0.5, 0.5, 0.5, 0.5, 0.5, ...</td>\n",
       "      <td>major</td>\n",
       "      <td>m7</td>\n",
       "    </tr>\n",
       "    <tr>\n",
       "      <th>4</th>\n",
       "      <td>https://www.vgmusic.com/music/console/3do/3do/...</td>\n",
       "      <td>ken4.mid</td>\n",
       "      <td>Ken</td>\n",
       "      <td>lion589\\n\\n</td>\n",
       "      <td>24826</td>\n",
       "      <td>Super Street Fighter 2 Turbo</td>\n",
       "      <td>3do</td>\n",
       "      <td>3do</td>\n",
       "      <td>X:1\\nT:Extracted Melody\\nM:4/4\\nK:C\\nQ:1.0/4=1...</td>\n",
       "      <td>120.0</td>\n",
       "      <td>['M3', 'm21', 'd19', 'M3', 'm21', 'd19', 'm16'...</td>\n",
       "      <td>[0.5, 0.5, 0.5, 0.5, 0.5, 0.5, 0.5, 0.5, 0.5, ...</td>\n",
       "      <td>minor</td>\n",
       "      <td>m21</td>\n",
       "    </tr>\n",
       "  </tbody>\n",
       "</table>\n",
       "</div>"
      ],
      "text/plain": [
       "                                                 url              song_file  \\\n",
       "0  https://www.vgmusic.com/music/console/3do/3do/...         kittytheme.mid   \n",
       "1  https://www.vgmusic.com/music/console/3do/3do/...            Rest_MJ.mid   \n",
       "2  https://www.vgmusic.com/music/console/3do/3do/...  return_the_stolen.mid   \n",
       "3  https://www.vgmusic.com/music/console/3do/3do/...             urquan.mid   \n",
       "4  https://www.vgmusic.com/music/console/3do/3do/...               ken4.mid   \n",
       "\n",
       "                             song_name               Credit  index  \\\n",
       "0                        Kitty's Theme            G-Han\\n\\n  24818   \n",
       "1             Overworld Theme - \"Rest\"  Guan van Zoggel\\n\\n  24819   \n",
       "2  Return The Stolen (Jazz Rock Remix)           DoKoCo\\n\\n  24820   \n",
       "3                     Ur-Quan Kzer-Za   Kirill Podzorov\\n\\n  24823   \n",
       "4                                  Ken          lion589\\n\\n  24826   \n",
       "\n",
       "                           game company console  \\\n",
       "0         Montana Jones (Japan)     3do     3do   \n",
       "1         Montana Jones (Japan)     3do     3do   \n",
       "2         Montana Jones (Japan)     3do     3do   \n",
       "3                Star Control 2     3do     3do   \n",
       "4  Super Street Fighter 2 Turbo     3do     3do   \n",
       "\n",
       "                                        abc_notation  tempo_value  \\\n",
       "0  X:1\\nT:Extracted Melody\\nM:4/4\\nK:C\\nQ:1.0/4=1...        128.0   \n",
       "1  X:1\\nT:Extracted Melody\\nM:4/4\\nK:C\\nQ:1.0/4=1...        105.0   \n",
       "2  X:1\\nT:Extracted Melody\\nM:4/4\\nK:C\\nQ:1.0/4=1...        129.0   \n",
       "3  X:1\\nT:Extracted Melody\\nM:4/4\\nK:C\\nQ:1/4=125...        125.0   \n",
       "4  X:1\\nT:Extracted Melody\\nM:4/4\\nK:C\\nQ:1.0/4=1...        120.0   \n",
       "\n",
       "                                            interval  \\\n",
       "0  ['d19', 'P1', 'M3', 'M3', 'm21', 'M3', 'm17', ...   \n",
       "1  ['m6', 'P4', 'P1', 'm3', 'm6', 'P5', 'M3', 'P4...   \n",
       "2  ['P4', 'm3', 'm6', 'P4', 'm3', 'm6', 'P4', 'm3...   \n",
       "3  ['P1', 'M2', 'm2', 'm2', 'M2', 'P1', 'P1', 'P1...   \n",
       "4  ['M3', 'm21', 'd19', 'M3', 'm21', 'd19', 'm16'...   \n",
       "\n",
       "                                     rhythm_patterns  scale pitch_range  \n",
       "0  [0.5, 0.5, 0.5, 0.5, 0.5, 0.5, 0.5, 0.5, 0.5, ...  minor         M23  \n",
       "1  [0.5, 0.5, 0.5, 0.5, 0.5, 0.5, 0.5, 0.5, 0.5, ...  minor          M9  \n",
       "2  [0.5, 0.5, 0.5, 0.5, 0.5, 0.5, 0.5, 0.5, 0.5, ...  minor          M9  \n",
       "3  [0.5, 0.5, 0.5, 0.5, 0.5, 0.5, 0.5, 0.5, 0.5, ...  major          m7  \n",
       "4  [0.5, 0.5, 0.5, 0.5, 0.5, 0.5, 0.5, 0.5, 0.5, ...  minor         m21  "
      ]
     },
     "execution_count": 4,
     "metadata": {},
     "output_type": "execute_result"
    }
   ],
   "source": [
    "consoleDf.head()"
   ]
  },
  {
   "cell_type": "code",
   "execution_count": 5,
   "metadata": {},
   "outputs": [
    {
     "data": {
      "text/html": [
       "<div>\n",
       "<style scoped>\n",
       "    .dataframe tbody tr th:only-of-type {\n",
       "        vertical-align: middle;\n",
       "    }\n",
       "\n",
       "    .dataframe tbody tr th {\n",
       "        vertical-align: top;\n",
       "    }\n",
       "\n",
       "    .dataframe thead th {\n",
       "        text-align: right;\n",
       "    }\n",
       "</style>\n",
       "<table border=\"1\" class=\"dataframe\">\n",
       "  <thead>\n",
       "    <tr style=\"text-align: right;\">\n",
       "      <th></th>\n",
       "      <th>url</th>\n",
       "      <th>song_file</th>\n",
       "      <th>song_name</th>\n",
       "      <th>Credit</th>\n",
       "      <th>index</th>\n",
       "      <th>game</th>\n",
       "      <th>company</th>\n",
       "      <th>console</th>\n",
       "      <th>abc_notation</th>\n",
       "      <th>tempo_value</th>\n",
       "      <th>scale</th>\n",
       "      <th>pitch_range</th>\n",
       "    </tr>\n",
       "  </thead>\n",
       "  <tbody>\n",
       "    <tr>\n",
       "      <th>0</th>\n",
       "      <td>https://www.vgmusic.com/music/computer/amstrad...</td>\n",
       "      <td>3dstar.mid</td>\n",
       "      <td>Main Theme</td>\n",
       "      <td>Jayenkai\\n\\n</td>\n",
       "      <td>437</td>\n",
       "      <td>3D StarFighter</td>\n",
       "      <td>amstrad</td>\n",
       "      <td>amstradcpc</td>\n",
       "      <td>X:1\\nT:Extracted Melody\\nM:4/4\\nL:1/8\\nK:C\\nQ:...</td>\n",
       "      <td>250</td>\n",
       "      <td>minor</td>\n",
       "      <td>m20</td>\n",
       "    </tr>\n",
       "    <tr>\n",
       "      <th>1</th>\n",
       "      <td>https://www.vgmusic.com/music/computer/amstrad...</td>\n",
       "      <td>Airwolf_2_Theme.mid</td>\n",
       "      <td>Theme</td>\n",
       "      <td>dorian.bluet\\n\\n</td>\n",
       "      <td>440</td>\n",
       "      <td>Airwolf II</td>\n",
       "      <td>amstrad</td>\n",
       "      <td>amstradcpc</td>\n",
       "      <td>X:1\\nT:Extracted Melody\\nM:4/4\\nL:1/8\\nK:C\\nQ:...</td>\n",
       "      <td>96</td>\n",
       "      <td>minor</td>\n",
       "      <td>M34</td>\n",
       "    </tr>\n",
       "    <tr>\n",
       "      <th>2</th>\n",
       "      <td>https://www.vgmusic.com/music/computer/amstrad...</td>\n",
       "      <td>chuckie_egg_1.mid</td>\n",
       "      <td>Hen House Harry Dies</td>\n",
       "      <td>jim\\n\\n</td>\n",
       "      <td>443</td>\n",
       "      <td>Chuckie Egg</td>\n",
       "      <td>amstrad</td>\n",
       "      <td>amstradcpc</td>\n",
       "      <td>X:1\\nT:Extracted Melody\\nM:4/4\\nL:1/8\\nK:C\\nQ:...</td>\n",
       "      <td>120</td>\n",
       "      <td>major</td>\n",
       "      <td>P36</td>\n",
       "    </tr>\n",
       "    <tr>\n",
       "      <th>3</th>\n",
       "      <td>https://www.vgmusic.com/music/computer/amstrad...</td>\n",
       "      <td>Deflector_-_JNK1.mid</td>\n",
       "      <td>Main Theme (JNK Remix)</td>\n",
       "      <td>\\n\\n</td>\n",
       "      <td>503</td>\n",
       "      <td>Deflector</td>\n",
       "      <td>amstrad</td>\n",
       "      <td>amstradcpc</td>\n",
       "      <td>X:1\\nT:Extracted Melody\\nM:4/4\\nL:1/8\\nK:C\\nQ:...</td>\n",
       "      <td>150</td>\n",
       "      <td>minor</td>\n",
       "      <td>m21</td>\n",
       "    </tr>\n",
       "    <tr>\n",
       "      <th>4</th>\n",
       "      <td>https://www.vgmusic.com/music/computer/amstrad...</td>\n",
       "      <td>montecar.mid</td>\n",
       "      <td>Main Menu</td>\n",
       "      <td>Multisandia\\n\\n</td>\n",
       "      <td>506</td>\n",
       "      <td>Monte Carlo Casino</td>\n",
       "      <td>amstrad</td>\n",
       "      <td>amstradcpc</td>\n",
       "      <td>X:1\\nT:Extracted Melody\\nM:4/4\\nL:1/8\\nK:C\\nQ:...</td>\n",
       "      <td>120</td>\n",
       "      <td>major</td>\n",
       "      <td>P33</td>\n",
       "    </tr>\n",
       "  </tbody>\n",
       "</table>\n",
       "</div>"
      ],
      "text/plain": [
       "                                                 url             song_file  \\\n",
       "0  https://www.vgmusic.com/music/computer/amstrad...            3dstar.mid   \n",
       "1  https://www.vgmusic.com/music/computer/amstrad...   Airwolf_2_Theme.mid   \n",
       "2  https://www.vgmusic.com/music/computer/amstrad...     chuckie_egg_1.mid   \n",
       "3  https://www.vgmusic.com/music/computer/amstrad...  Deflector_-_JNK1.mid   \n",
       "4  https://www.vgmusic.com/music/computer/amstrad...          montecar.mid   \n",
       "\n",
       "                 song_name            Credit  index                game  \\\n",
       "0               Main Theme      Jayenkai\\n\\n    437      3D StarFighter   \n",
       "1                    Theme  dorian.bluet\\n\\n    440          Airwolf II   \n",
       "2     Hen House Harry Dies           jim\\n\\n    443         Chuckie Egg   \n",
       "3  Main Theme (JNK Remix)               \\n\\n    503           Deflector   \n",
       "4               Main Menu    Multisandia\\n\\n    506  Monte Carlo Casino   \n",
       "\n",
       "   company     console                                       abc_notation  \\\n",
       "0  amstrad  amstradcpc  X:1\\nT:Extracted Melody\\nM:4/4\\nL:1/8\\nK:C\\nQ:...   \n",
       "1  amstrad  amstradcpc  X:1\\nT:Extracted Melody\\nM:4/4\\nL:1/8\\nK:C\\nQ:...   \n",
       "2  amstrad  amstradcpc  X:1\\nT:Extracted Melody\\nM:4/4\\nL:1/8\\nK:C\\nQ:...   \n",
       "3  amstrad  amstradcpc  X:1\\nT:Extracted Melody\\nM:4/4\\nL:1/8\\nK:C\\nQ:...   \n",
       "4  amstrad  amstradcpc  X:1\\nT:Extracted Melody\\nM:4/4\\nL:1/8\\nK:C\\nQ:...   \n",
       "\n",
       "   tempo_value  scale pitch_range  \n",
       "0          250  minor         m20  \n",
       "1           96  minor         M34  \n",
       "2          120  major         P36  \n",
       "3          150  minor         m21  \n",
       "4          120  major         P33  "
      ]
     },
     "execution_count": 5,
     "metadata": {},
     "output_type": "execute_result"
    }
   ],
   "source": [
    "# computerDf.drop('Unnamed: 0', axis=1, inplace=True)\n",
    "computerDf.head()"
   ]
  },
  {
   "cell_type": "markdown",
   "metadata": {},
   "source": [
    "# Data Assessing"
   ]
  },
  {
   "cell_type": "markdown",
   "metadata": {},
   "source": [
    "## Info"
   ]
  },
  {
   "cell_type": "code",
   "execution_count": 6,
   "metadata": {},
   "outputs": [
    {
     "name": "stdout",
     "output_type": "stream",
     "text": [
      "<class 'pandas.core.frame.DataFrame'>\n",
      "RangeIndex: 3290 entries, 0 to 3289\n",
      "Data columns (total 12 columns):\n",
      " #   Column        Non-Null Count  Dtype \n",
      "---  ------        --------------  ----- \n",
      " 0   url           3290 non-null   object\n",
      " 1   song_file     3290 non-null   object\n",
      " 2   song_name     3290 non-null   object\n",
      " 3   Credit        3290 non-null   object\n",
      " 4   index         3290 non-null   int64 \n",
      " 5   game          3290 non-null   object\n",
      " 6   company       3290 non-null   object\n",
      " 7   console       3290 non-null   object\n",
      " 8   abc_notation  3290 non-null   object\n",
      " 9   tempo_value   3290 non-null   int64 \n",
      " 10  scale         3290 non-null   object\n",
      " 11  pitch_range   3290 non-null   object\n",
      "dtypes: int64(2), object(10)\n",
      "memory usage: 308.6+ KB\n"
     ]
    }
   ],
   "source": [
    "computerDf.info()"
   ]
  },
  {
   "cell_type": "code",
   "execution_count": 7,
   "metadata": {},
   "outputs": [
    {
     "name": "stdout",
     "output_type": "stream",
     "text": [
      "<class 'pandas.core.frame.DataFrame'>\n",
      "RangeIndex: 33927 entries, 0 to 33926\n",
      "Data columns (total 14 columns):\n",
      " #   Column           Non-Null Count  Dtype  \n",
      "---  ------           --------------  -----  \n",
      " 0   url              33927 non-null  object \n",
      " 1   song_file        33927 non-null  object \n",
      " 2   song_name        33927 non-null  object \n",
      " 3   Credit           33927 non-null  object \n",
      " 4   index            33927 non-null  int64  \n",
      " 5   game             33927 non-null  object \n",
      " 6   company          33927 non-null  object \n",
      " 7   console          33927 non-null  object \n",
      " 8   abc_notation     33927 non-null  object \n",
      " 9   tempo_value      33927 non-null  float64\n",
      " 10  interval         1581 non-null   object \n",
      " 11  rhythm_patterns  1581 non-null   object \n",
      " 12  scale            33927 non-null  object \n",
      " 13  pitch_range      33927 non-null  object \n",
      "dtypes: float64(1), int64(1), object(12)\n",
      "memory usage: 3.6+ MB\n"
     ]
    }
   ],
   "source": [
    "consoleDf.info()"
   ]
  },
  {
   "cell_type": "markdown",
   "metadata": {},
   "source": [
    "## Drop Columns"
   ]
  },
  {
   "cell_type": "code",
   "execution_count": 8,
   "metadata": {},
   "outputs": [
    {
     "ename": "KeyError",
     "evalue": "\"['interval', 'rhythm_patterns'] not found in axis\"",
     "output_type": "error",
     "traceback": [
      "\u001b[1;31m---------------------------------------------------------------------------\u001b[0m",
      "\u001b[1;31mKeyError\u001b[0m                                  Traceback (most recent call last)",
      "Cell \u001b[1;32mIn[8], line 2\u001b[0m\n\u001b[0;32m      1\u001b[0m consoleDf\u001b[38;5;241m.\u001b[39mdrop([\u001b[38;5;124m'\u001b[39m\u001b[38;5;124minterval\u001b[39m\u001b[38;5;124m'\u001b[39m, \u001b[38;5;124m'\u001b[39m\u001b[38;5;124mrhythm_patterns\u001b[39m\u001b[38;5;124m'\u001b[39m], axis\u001b[38;5;241m=\u001b[39m\u001b[38;5;241m1\u001b[39m, inplace\u001b[38;5;241m=\u001b[39m\u001b[38;5;28;01mTrue\u001b[39;00m)\n\u001b[1;32m----> 2\u001b[0m \u001b[43mcomputerDf\u001b[49m\u001b[38;5;241;43m.\u001b[39;49m\u001b[43mdrop\u001b[49m\u001b[43m(\u001b[49m\u001b[43m[\u001b[49m\u001b[38;5;124;43m'\u001b[39;49m\u001b[38;5;124;43minterval\u001b[39;49m\u001b[38;5;124;43m'\u001b[39;49m\u001b[43m,\u001b[49m\u001b[43m \u001b[49m\u001b[38;5;124;43m'\u001b[39;49m\u001b[38;5;124;43mrhythm_patterns\u001b[39;49m\u001b[38;5;124;43m'\u001b[39;49m\u001b[43m]\u001b[49m\u001b[43m,\u001b[49m\u001b[43m \u001b[49m\u001b[43maxis\u001b[49m\u001b[38;5;241;43m=\u001b[39;49m\u001b[38;5;241;43m1\u001b[39;49m\u001b[43m,\u001b[49m\u001b[43m \u001b[49m\u001b[43minplace\u001b[49m\u001b[38;5;241;43m=\u001b[39;49m\u001b[38;5;28;43;01mTrue\u001b[39;49;00m\u001b[43m)\u001b[49m\n",
      "File \u001b[1;32mc:\\Users\\legion\\miniconda3\\envs\\datmin\\Lib\\site-packages\\pandas\\core\\frame.py:5568\u001b[0m, in \u001b[0;36mDataFrame.drop\u001b[1;34m(self, labels, axis, index, columns, level, inplace, errors)\u001b[0m\n\u001b[0;32m   5420\u001b[0m \u001b[38;5;28;01mdef\u001b[39;00m \u001b[38;5;21mdrop\u001b[39m(\n\u001b[0;32m   5421\u001b[0m     \u001b[38;5;28mself\u001b[39m,\n\u001b[0;32m   5422\u001b[0m     labels: IndexLabel \u001b[38;5;241m|\u001b[39m \u001b[38;5;28;01mNone\u001b[39;00m \u001b[38;5;241m=\u001b[39m \u001b[38;5;28;01mNone\u001b[39;00m,\n\u001b[1;32m   (...)\u001b[0m\n\u001b[0;32m   5429\u001b[0m     errors: IgnoreRaise \u001b[38;5;241m=\u001b[39m \u001b[38;5;124m\"\u001b[39m\u001b[38;5;124mraise\u001b[39m\u001b[38;5;124m\"\u001b[39m,\n\u001b[0;32m   5430\u001b[0m ) \u001b[38;5;241m-\u001b[39m\u001b[38;5;241m>\u001b[39m DataFrame \u001b[38;5;241m|\u001b[39m \u001b[38;5;28;01mNone\u001b[39;00m:\n\u001b[0;32m   5431\u001b[0m \u001b[38;5;250m    \u001b[39m\u001b[38;5;124;03m\"\"\"\u001b[39;00m\n\u001b[0;32m   5432\u001b[0m \u001b[38;5;124;03m    Drop specified labels from rows or columns.\u001b[39;00m\n\u001b[0;32m   5433\u001b[0m \n\u001b[1;32m   (...)\u001b[0m\n\u001b[0;32m   5566\u001b[0m \u001b[38;5;124;03m            weight  1.0     0.8\u001b[39;00m\n\u001b[0;32m   5567\u001b[0m \u001b[38;5;124;03m    \"\"\"\u001b[39;00m\n\u001b[1;32m-> 5568\u001b[0m     \u001b[38;5;28;01mreturn\u001b[39;00m \u001b[38;5;28;43msuper\u001b[39;49m\u001b[43m(\u001b[49m\u001b[43m)\u001b[49m\u001b[38;5;241;43m.\u001b[39;49m\u001b[43mdrop\u001b[49m\u001b[43m(\u001b[49m\n\u001b[0;32m   5569\u001b[0m \u001b[43m        \u001b[49m\u001b[43mlabels\u001b[49m\u001b[38;5;241;43m=\u001b[39;49m\u001b[43mlabels\u001b[49m\u001b[43m,\u001b[49m\n\u001b[0;32m   5570\u001b[0m \u001b[43m        \u001b[49m\u001b[43maxis\u001b[49m\u001b[38;5;241;43m=\u001b[39;49m\u001b[43maxis\u001b[49m\u001b[43m,\u001b[49m\n\u001b[0;32m   5571\u001b[0m \u001b[43m        \u001b[49m\u001b[43mindex\u001b[49m\u001b[38;5;241;43m=\u001b[39;49m\u001b[43mindex\u001b[49m\u001b[43m,\u001b[49m\n\u001b[0;32m   5572\u001b[0m \u001b[43m        \u001b[49m\u001b[43mcolumns\u001b[49m\u001b[38;5;241;43m=\u001b[39;49m\u001b[43mcolumns\u001b[49m\u001b[43m,\u001b[49m\n\u001b[0;32m   5573\u001b[0m \u001b[43m        \u001b[49m\u001b[43mlevel\u001b[49m\u001b[38;5;241;43m=\u001b[39;49m\u001b[43mlevel\u001b[49m\u001b[43m,\u001b[49m\n\u001b[0;32m   5574\u001b[0m \u001b[43m        \u001b[49m\u001b[43minplace\u001b[49m\u001b[38;5;241;43m=\u001b[39;49m\u001b[43minplace\u001b[49m\u001b[43m,\u001b[49m\n\u001b[0;32m   5575\u001b[0m \u001b[43m        \u001b[49m\u001b[43merrors\u001b[49m\u001b[38;5;241;43m=\u001b[39;49m\u001b[43merrors\u001b[49m\u001b[43m,\u001b[49m\n\u001b[0;32m   5576\u001b[0m \u001b[43m    \u001b[49m\u001b[43m)\u001b[49m\n",
      "File \u001b[1;32mc:\\Users\\legion\\miniconda3\\envs\\datmin\\Lib\\site-packages\\pandas\\core\\generic.py:4785\u001b[0m, in \u001b[0;36mNDFrame.drop\u001b[1;34m(self, labels, axis, index, columns, level, inplace, errors)\u001b[0m\n\u001b[0;32m   4783\u001b[0m \u001b[38;5;28;01mfor\u001b[39;00m axis, labels \u001b[38;5;129;01min\u001b[39;00m axes\u001b[38;5;241m.\u001b[39mitems():\n\u001b[0;32m   4784\u001b[0m     \u001b[38;5;28;01mif\u001b[39;00m labels \u001b[38;5;129;01mis\u001b[39;00m \u001b[38;5;129;01mnot\u001b[39;00m \u001b[38;5;28;01mNone\u001b[39;00m:\n\u001b[1;32m-> 4785\u001b[0m         obj \u001b[38;5;241m=\u001b[39m \u001b[43mobj\u001b[49m\u001b[38;5;241;43m.\u001b[39;49m\u001b[43m_drop_axis\u001b[49m\u001b[43m(\u001b[49m\u001b[43mlabels\u001b[49m\u001b[43m,\u001b[49m\u001b[43m \u001b[49m\u001b[43maxis\u001b[49m\u001b[43m,\u001b[49m\u001b[43m \u001b[49m\u001b[43mlevel\u001b[49m\u001b[38;5;241;43m=\u001b[39;49m\u001b[43mlevel\u001b[49m\u001b[43m,\u001b[49m\u001b[43m \u001b[49m\u001b[43merrors\u001b[49m\u001b[38;5;241;43m=\u001b[39;49m\u001b[43merrors\u001b[49m\u001b[43m)\u001b[49m\n\u001b[0;32m   4787\u001b[0m \u001b[38;5;28;01mif\u001b[39;00m inplace:\n\u001b[0;32m   4788\u001b[0m     \u001b[38;5;28mself\u001b[39m\u001b[38;5;241m.\u001b[39m_update_inplace(obj)\n",
      "File \u001b[1;32mc:\\Users\\legion\\miniconda3\\envs\\datmin\\Lib\\site-packages\\pandas\\core\\generic.py:4827\u001b[0m, in \u001b[0;36mNDFrame._drop_axis\u001b[1;34m(self, labels, axis, level, errors, only_slice)\u001b[0m\n\u001b[0;32m   4825\u001b[0m         new_axis \u001b[38;5;241m=\u001b[39m axis\u001b[38;5;241m.\u001b[39mdrop(labels, level\u001b[38;5;241m=\u001b[39mlevel, errors\u001b[38;5;241m=\u001b[39merrors)\n\u001b[0;32m   4826\u001b[0m     \u001b[38;5;28;01melse\u001b[39;00m:\n\u001b[1;32m-> 4827\u001b[0m         new_axis \u001b[38;5;241m=\u001b[39m \u001b[43maxis\u001b[49m\u001b[38;5;241;43m.\u001b[39;49m\u001b[43mdrop\u001b[49m\u001b[43m(\u001b[49m\u001b[43mlabels\u001b[49m\u001b[43m,\u001b[49m\u001b[43m \u001b[49m\u001b[43merrors\u001b[49m\u001b[38;5;241;43m=\u001b[39;49m\u001b[43merrors\u001b[49m\u001b[43m)\u001b[49m\n\u001b[0;32m   4828\u001b[0m     indexer \u001b[38;5;241m=\u001b[39m axis\u001b[38;5;241m.\u001b[39mget_indexer(new_axis)\n\u001b[0;32m   4830\u001b[0m \u001b[38;5;66;03m# Case for non-unique axis\u001b[39;00m\n\u001b[0;32m   4831\u001b[0m \u001b[38;5;28;01melse\u001b[39;00m:\n",
      "File \u001b[1;32mc:\\Users\\legion\\miniconda3\\envs\\datmin\\Lib\\site-packages\\pandas\\core\\indexes\\base.py:7070\u001b[0m, in \u001b[0;36mIndex.drop\u001b[1;34m(self, labels, errors)\u001b[0m\n\u001b[0;32m   7068\u001b[0m \u001b[38;5;28;01mif\u001b[39;00m mask\u001b[38;5;241m.\u001b[39many():\n\u001b[0;32m   7069\u001b[0m     \u001b[38;5;28;01mif\u001b[39;00m errors \u001b[38;5;241m!=\u001b[39m \u001b[38;5;124m\"\u001b[39m\u001b[38;5;124mignore\u001b[39m\u001b[38;5;124m\"\u001b[39m:\n\u001b[1;32m-> 7070\u001b[0m         \u001b[38;5;28;01mraise\u001b[39;00m \u001b[38;5;167;01mKeyError\u001b[39;00m(\u001b[38;5;124mf\u001b[39m\u001b[38;5;124m\"\u001b[39m\u001b[38;5;132;01m{\u001b[39;00mlabels[mask]\u001b[38;5;241m.\u001b[39mtolist()\u001b[38;5;132;01m}\u001b[39;00m\u001b[38;5;124m not found in axis\u001b[39m\u001b[38;5;124m\"\u001b[39m)\n\u001b[0;32m   7071\u001b[0m     indexer \u001b[38;5;241m=\u001b[39m indexer[\u001b[38;5;241m~\u001b[39mmask]\n\u001b[0;32m   7072\u001b[0m \u001b[38;5;28;01mreturn\u001b[39;00m \u001b[38;5;28mself\u001b[39m\u001b[38;5;241m.\u001b[39mdelete(indexer)\n",
      "\u001b[1;31mKeyError\u001b[0m: \"['interval', 'rhythm_patterns'] not found in axis\""
     ]
    }
   ],
   "source": [
    "consoleDf.drop(['interval', 'rhythm_patterns'], axis=1, inplace=True)\n",
    "computerDf.drop(['interval', 'rhythm_patterns'], axis=1, inplace=True)"
   ]
  },
  {
   "cell_type": "code",
   "execution_count": 9,
   "metadata": {},
   "outputs": [
    {
     "data": {
      "text/html": [
       "<div>\n",
       "<style scoped>\n",
       "    .dataframe tbody tr th:only-of-type {\n",
       "        vertical-align: middle;\n",
       "    }\n",
       "\n",
       "    .dataframe tbody tr th {\n",
       "        vertical-align: top;\n",
       "    }\n",
       "\n",
       "    .dataframe thead th {\n",
       "        text-align: right;\n",
       "    }\n",
       "</style>\n",
       "<table border=\"1\" class=\"dataframe\">\n",
       "  <thead>\n",
       "    <tr style=\"text-align: right;\">\n",
       "      <th></th>\n",
       "      <th>url</th>\n",
       "      <th>song_file</th>\n",
       "      <th>song_name</th>\n",
       "      <th>Credit</th>\n",
       "      <th>index</th>\n",
       "      <th>game</th>\n",
       "      <th>company</th>\n",
       "      <th>console</th>\n",
       "      <th>abc_notation</th>\n",
       "      <th>tempo_value</th>\n",
       "      <th>scale</th>\n",
       "      <th>pitch_range</th>\n",
       "    </tr>\n",
       "  </thead>\n",
       "  <tbody>\n",
       "    <tr>\n",
       "      <th>0</th>\n",
       "      <td>https://www.vgmusic.com/music/computer/amstrad...</td>\n",
       "      <td>3dstar.mid</td>\n",
       "      <td>Main Theme</td>\n",
       "      <td>Jayenkai\\n\\n</td>\n",
       "      <td>437</td>\n",
       "      <td>3D StarFighter</td>\n",
       "      <td>amstrad</td>\n",
       "      <td>amstradcpc</td>\n",
       "      <td>X:1\\nT:Extracted Melody\\nM:4/4\\nL:1/8\\nK:C\\nQ:...</td>\n",
       "      <td>250</td>\n",
       "      <td>minor</td>\n",
       "      <td>m20</td>\n",
       "    </tr>\n",
       "    <tr>\n",
       "      <th>1</th>\n",
       "      <td>https://www.vgmusic.com/music/computer/amstrad...</td>\n",
       "      <td>Airwolf_2_Theme.mid</td>\n",
       "      <td>Theme</td>\n",
       "      <td>dorian.bluet\\n\\n</td>\n",
       "      <td>440</td>\n",
       "      <td>Airwolf II</td>\n",
       "      <td>amstrad</td>\n",
       "      <td>amstradcpc</td>\n",
       "      <td>X:1\\nT:Extracted Melody\\nM:4/4\\nL:1/8\\nK:C\\nQ:...</td>\n",
       "      <td>96</td>\n",
       "      <td>minor</td>\n",
       "      <td>M34</td>\n",
       "    </tr>\n",
       "    <tr>\n",
       "      <th>2</th>\n",
       "      <td>https://www.vgmusic.com/music/computer/amstrad...</td>\n",
       "      <td>chuckie_egg_1.mid</td>\n",
       "      <td>Hen House Harry Dies</td>\n",
       "      <td>jim\\n\\n</td>\n",
       "      <td>443</td>\n",
       "      <td>Chuckie Egg</td>\n",
       "      <td>amstrad</td>\n",
       "      <td>amstradcpc</td>\n",
       "      <td>X:1\\nT:Extracted Melody\\nM:4/4\\nL:1/8\\nK:C\\nQ:...</td>\n",
       "      <td>120</td>\n",
       "      <td>major</td>\n",
       "      <td>P36</td>\n",
       "    </tr>\n",
       "    <tr>\n",
       "      <th>3</th>\n",
       "      <td>https://www.vgmusic.com/music/computer/amstrad...</td>\n",
       "      <td>Deflector_-_JNK1.mid</td>\n",
       "      <td>Main Theme (JNK Remix)</td>\n",
       "      <td>\\n\\n</td>\n",
       "      <td>503</td>\n",
       "      <td>Deflector</td>\n",
       "      <td>amstrad</td>\n",
       "      <td>amstradcpc</td>\n",
       "      <td>X:1\\nT:Extracted Melody\\nM:4/4\\nL:1/8\\nK:C\\nQ:...</td>\n",
       "      <td>150</td>\n",
       "      <td>minor</td>\n",
       "      <td>m21</td>\n",
       "    </tr>\n",
       "    <tr>\n",
       "      <th>4</th>\n",
       "      <td>https://www.vgmusic.com/music/computer/amstrad...</td>\n",
       "      <td>montecar.mid</td>\n",
       "      <td>Main Menu</td>\n",
       "      <td>Multisandia\\n\\n</td>\n",
       "      <td>506</td>\n",
       "      <td>Monte Carlo Casino</td>\n",
       "      <td>amstrad</td>\n",
       "      <td>amstradcpc</td>\n",
       "      <td>X:1\\nT:Extracted Melody\\nM:4/4\\nL:1/8\\nK:C\\nQ:...</td>\n",
       "      <td>120</td>\n",
       "      <td>major</td>\n",
       "      <td>P33</td>\n",
       "    </tr>\n",
       "  </tbody>\n",
       "</table>\n",
       "</div>"
      ],
      "text/plain": [
       "                                                 url             song_file  \\\n",
       "0  https://www.vgmusic.com/music/computer/amstrad...            3dstar.mid   \n",
       "1  https://www.vgmusic.com/music/computer/amstrad...   Airwolf_2_Theme.mid   \n",
       "2  https://www.vgmusic.com/music/computer/amstrad...     chuckie_egg_1.mid   \n",
       "3  https://www.vgmusic.com/music/computer/amstrad...  Deflector_-_JNK1.mid   \n",
       "4  https://www.vgmusic.com/music/computer/amstrad...          montecar.mid   \n",
       "\n",
       "                 song_name            Credit  index                game  \\\n",
       "0               Main Theme      Jayenkai\\n\\n    437      3D StarFighter   \n",
       "1                    Theme  dorian.bluet\\n\\n    440          Airwolf II   \n",
       "2     Hen House Harry Dies           jim\\n\\n    443         Chuckie Egg   \n",
       "3  Main Theme (JNK Remix)               \\n\\n    503           Deflector   \n",
       "4               Main Menu    Multisandia\\n\\n    506  Monte Carlo Casino   \n",
       "\n",
       "   company     console                                       abc_notation  \\\n",
       "0  amstrad  amstradcpc  X:1\\nT:Extracted Melody\\nM:4/4\\nL:1/8\\nK:C\\nQ:...   \n",
       "1  amstrad  amstradcpc  X:1\\nT:Extracted Melody\\nM:4/4\\nL:1/8\\nK:C\\nQ:...   \n",
       "2  amstrad  amstradcpc  X:1\\nT:Extracted Melody\\nM:4/4\\nL:1/8\\nK:C\\nQ:...   \n",
       "3  amstrad  amstradcpc  X:1\\nT:Extracted Melody\\nM:4/4\\nL:1/8\\nK:C\\nQ:...   \n",
       "4  amstrad  amstradcpc  X:1\\nT:Extracted Melody\\nM:4/4\\nL:1/8\\nK:C\\nQ:...   \n",
       "\n",
       "   tempo_value  scale pitch_range  \n",
       "0          250  minor         m20  \n",
       "1           96  minor         M34  \n",
       "2          120  major         P36  \n",
       "3          150  minor         m21  \n",
       "4          120  major         P33  "
      ]
     },
     "execution_count": 9,
     "metadata": {},
     "output_type": "execute_result"
    }
   ],
   "source": [
    "computerDf.head()"
   ]
  },
  {
   "cell_type": "code",
   "execution_count": 10,
   "metadata": {},
   "outputs": [
    {
     "data": {
      "text/html": [
       "<div>\n",
       "<style scoped>\n",
       "    .dataframe tbody tr th:only-of-type {\n",
       "        vertical-align: middle;\n",
       "    }\n",
       "\n",
       "    .dataframe tbody tr th {\n",
       "        vertical-align: top;\n",
       "    }\n",
       "\n",
       "    .dataframe thead th {\n",
       "        text-align: right;\n",
       "    }\n",
       "</style>\n",
       "<table border=\"1\" class=\"dataframe\">\n",
       "  <thead>\n",
       "    <tr style=\"text-align: right;\">\n",
       "      <th></th>\n",
       "      <th>url</th>\n",
       "      <th>song_file</th>\n",
       "      <th>song_name</th>\n",
       "      <th>Credit</th>\n",
       "      <th>index</th>\n",
       "      <th>game</th>\n",
       "      <th>company</th>\n",
       "      <th>console</th>\n",
       "      <th>abc_notation</th>\n",
       "      <th>tempo_value</th>\n",
       "      <th>scale</th>\n",
       "      <th>pitch_range</th>\n",
       "    </tr>\n",
       "  </thead>\n",
       "  <tbody>\n",
       "    <tr>\n",
       "      <th>0</th>\n",
       "      <td>https://www.vgmusic.com/music/console/3do/3do/...</td>\n",
       "      <td>kittytheme.mid</td>\n",
       "      <td>Kitty's Theme</td>\n",
       "      <td>G-Han\\n\\n</td>\n",
       "      <td>24818</td>\n",
       "      <td>Montana Jones (Japan)</td>\n",
       "      <td>3do</td>\n",
       "      <td>3do</td>\n",
       "      <td>X:1\\nT:Extracted Melody\\nM:4/4\\nK:C\\nQ:1.0/4=1...</td>\n",
       "      <td>128.0</td>\n",
       "      <td>minor</td>\n",
       "      <td>M23</td>\n",
       "    </tr>\n",
       "    <tr>\n",
       "      <th>1</th>\n",
       "      <td>https://www.vgmusic.com/music/console/3do/3do/...</td>\n",
       "      <td>Rest_MJ.mid</td>\n",
       "      <td>Overworld Theme - \"Rest\"</td>\n",
       "      <td>Guan van Zoggel\\n\\n</td>\n",
       "      <td>24819</td>\n",
       "      <td>Montana Jones (Japan)</td>\n",
       "      <td>3do</td>\n",
       "      <td>3do</td>\n",
       "      <td>X:1\\nT:Extracted Melody\\nM:4/4\\nK:C\\nQ:1.0/4=1...</td>\n",
       "      <td>105.0</td>\n",
       "      <td>minor</td>\n",
       "      <td>M9</td>\n",
       "    </tr>\n",
       "    <tr>\n",
       "      <th>2</th>\n",
       "      <td>https://www.vgmusic.com/music/console/3do/3do/...</td>\n",
       "      <td>return_the_stolen.mid</td>\n",
       "      <td>Return The Stolen (Jazz Rock Remix)</td>\n",
       "      <td>DoKoCo\\n\\n</td>\n",
       "      <td>24820</td>\n",
       "      <td>Montana Jones (Japan)</td>\n",
       "      <td>3do</td>\n",
       "      <td>3do</td>\n",
       "      <td>X:1\\nT:Extracted Melody\\nM:4/4\\nK:C\\nQ:1.0/4=1...</td>\n",
       "      <td>129.0</td>\n",
       "      <td>minor</td>\n",
       "      <td>M9</td>\n",
       "    </tr>\n",
       "    <tr>\n",
       "      <th>3</th>\n",
       "      <td>https://www.vgmusic.com/music/console/3do/3do/...</td>\n",
       "      <td>urquan.mid</td>\n",
       "      <td>Ur-Quan Kzer-Za</td>\n",
       "      <td>Kirill Podzorov\\n\\n</td>\n",
       "      <td>24823</td>\n",
       "      <td>Star Control 2</td>\n",
       "      <td>3do</td>\n",
       "      <td>3do</td>\n",
       "      <td>X:1\\nT:Extracted Melody\\nM:4/4\\nK:C\\nQ:1/4=125...</td>\n",
       "      <td>125.0</td>\n",
       "      <td>major</td>\n",
       "      <td>m7</td>\n",
       "    </tr>\n",
       "    <tr>\n",
       "      <th>4</th>\n",
       "      <td>https://www.vgmusic.com/music/console/3do/3do/...</td>\n",
       "      <td>ken4.mid</td>\n",
       "      <td>Ken</td>\n",
       "      <td>lion589\\n\\n</td>\n",
       "      <td>24826</td>\n",
       "      <td>Super Street Fighter 2 Turbo</td>\n",
       "      <td>3do</td>\n",
       "      <td>3do</td>\n",
       "      <td>X:1\\nT:Extracted Melody\\nM:4/4\\nK:C\\nQ:1.0/4=1...</td>\n",
       "      <td>120.0</td>\n",
       "      <td>minor</td>\n",
       "      <td>m21</td>\n",
       "    </tr>\n",
       "  </tbody>\n",
       "</table>\n",
       "</div>"
      ],
      "text/plain": [
       "                                                 url              song_file  \\\n",
       "0  https://www.vgmusic.com/music/console/3do/3do/...         kittytheme.mid   \n",
       "1  https://www.vgmusic.com/music/console/3do/3do/...            Rest_MJ.mid   \n",
       "2  https://www.vgmusic.com/music/console/3do/3do/...  return_the_stolen.mid   \n",
       "3  https://www.vgmusic.com/music/console/3do/3do/...             urquan.mid   \n",
       "4  https://www.vgmusic.com/music/console/3do/3do/...               ken4.mid   \n",
       "\n",
       "                             song_name               Credit  index  \\\n",
       "0                        Kitty's Theme            G-Han\\n\\n  24818   \n",
       "1             Overworld Theme - \"Rest\"  Guan van Zoggel\\n\\n  24819   \n",
       "2  Return The Stolen (Jazz Rock Remix)           DoKoCo\\n\\n  24820   \n",
       "3                     Ur-Quan Kzer-Za   Kirill Podzorov\\n\\n  24823   \n",
       "4                                  Ken          lion589\\n\\n  24826   \n",
       "\n",
       "                           game company console  \\\n",
       "0         Montana Jones (Japan)     3do     3do   \n",
       "1         Montana Jones (Japan)     3do     3do   \n",
       "2         Montana Jones (Japan)     3do     3do   \n",
       "3                Star Control 2     3do     3do   \n",
       "4  Super Street Fighter 2 Turbo     3do     3do   \n",
       "\n",
       "                                        abc_notation  tempo_value  scale  \\\n",
       "0  X:1\\nT:Extracted Melody\\nM:4/4\\nK:C\\nQ:1.0/4=1...        128.0  minor   \n",
       "1  X:1\\nT:Extracted Melody\\nM:4/4\\nK:C\\nQ:1.0/4=1...        105.0  minor   \n",
       "2  X:1\\nT:Extracted Melody\\nM:4/4\\nK:C\\nQ:1.0/4=1...        129.0  minor   \n",
       "3  X:1\\nT:Extracted Melody\\nM:4/4\\nK:C\\nQ:1/4=125...        125.0  major   \n",
       "4  X:1\\nT:Extracted Melody\\nM:4/4\\nK:C\\nQ:1.0/4=1...        120.0  minor   \n",
       "\n",
       "  pitch_range  \n",
       "0         M23  \n",
       "1          M9  \n",
       "2          M9  \n",
       "3          m7  \n",
       "4         m21  "
      ]
     },
     "execution_count": 10,
     "metadata": {},
     "output_type": "execute_result"
    }
   ],
   "source": [
    "consoleDf.head()"
   ]
  },
  {
   "cell_type": "markdown",
   "metadata": {},
   "source": [
    "# Data Cleansing"
   ]
  },
  {
   "cell_type": "code",
   "execution_count": 11,
   "metadata": {},
   "outputs": [
    {
     "name": "stdout",
     "output_type": "stream",
     "text": [
      "<class 'pandas.core.frame.DataFrame'>\n",
      "RangeIndex: 33927 entries, 0 to 33926\n",
      "Data columns (total 12 columns):\n",
      " #   Column        Non-Null Count  Dtype  \n",
      "---  ------        --------------  -----  \n",
      " 0   url           33927 non-null  object \n",
      " 1   song_file     33927 non-null  object \n",
      " 2   song_name     33927 non-null  object \n",
      " 3   Credit        33927 non-null  object \n",
      " 4   index         33927 non-null  int64  \n",
      " 5   game          33927 non-null  object \n",
      " 6   company       33927 non-null  object \n",
      " 7   console       33927 non-null  object \n",
      " 8   abc_notation  33927 non-null  object \n",
      " 9   tempo_value   33927 non-null  float64\n",
      " 10  scale         33927 non-null  object \n",
      " 11  pitch_range   33927 non-null  object \n",
      "dtypes: float64(1), int64(1), object(10)\n",
      "memory usage: 3.1+ MB\n"
     ]
    }
   ],
   "source": [
    "consoleDf.dropna(inplace=True)\n",
    "consoleDf.info()"
   ]
  },
  {
   "cell_type": "code",
   "execution_count": 12,
   "metadata": {},
   "outputs": [],
   "source": [
    "# Casting Tipe Data Tempo Value\n",
    "consoleDf['tempo_value'] = consoleDf['tempo_value'].astype(int)"
   ]
  },
  {
   "cell_type": "markdown",
   "metadata": {},
   "source": [
    "### Gabungkan Kedua Dataset"
   ]
  },
  {
   "cell_type": "code",
   "execution_count": 13,
   "metadata": {},
   "outputs": [
    {
     "data": {
      "text/plain": [
       "(37217, 12)"
      ]
     },
     "execution_count": 13,
     "metadata": {},
     "output_type": "execute_result"
    }
   ],
   "source": [
    "combinedDf = pd.concat([computerDf, consoleDf], axis=0, ignore_index=True)\n",
    "combinedDf.shape"
   ]
  },
  {
   "cell_type": "markdown",
   "metadata": {},
   "source": [
    "# EDA"
   ]
  },
  {
   "cell_type": "markdown",
   "metadata": {},
   "source": [
    "## Nilai Unique"
   ]
  },
  {
   "cell_type": "markdown",
   "metadata": {},
   "source": [
    "### Tempo Value"
   ]
  },
  {
   "cell_type": "code",
   "execution_count": 15,
   "metadata": {},
   "outputs": [
    {
     "name": "stdout",
     "output_type": "stream",
     "text": [
      "Computer:\n",
      " 1. Length Unique: 309\n",
      " 2. Value: [  250    96   120   150   185   140    60    80   129   109    89   160\n",
      "   125   126   110   255    85   135   105    99   113   180   210   116\n",
      "   132   137   117   130   112   100   134   200    97   145   190   123\n",
      "   131   104   144   162   177   122    93   107    63   148   152   170\n",
      "   124   186   127   111    83    75   158    90   195    95    94   143\n",
      "    84   199   138   156   182   211   370   214   290   103   163   187\n",
      "    91   128    71    67    72   166   256   229   136   153   246   115\n",
      "    73   228   164   114   179   165   175   154    64    65   251   220\n",
      "   244    59   236   151   159   102   142    82   118   108   119    98\n",
      "   133   157   106   172   168    28   276    34    69    37    79   155\n",
      "   147    62    74   176   205   184   146   188   265   218   217   235\n",
      "   234   208   173   267   174   207    40   300    92   101   213   181\n",
      "   141    50    77   171    76    39   238   169   240   121   260    70\n",
      "   227   212    55    35   226   280   248   161   167   230   204   192\n",
      "    87   196   197   139    12   178   194   225   149   223   400   270\n",
      "   198    88   191    44   183   380   222    61    53    78    54    45\n",
      "    68   216   231   252   224   368   304   279    49   512    86    66\n",
      "   201   202    81   189   268   215   253   320   345   289   350   330\n",
      "   393   193   203   335   340   295    48   275    22   700   750   375\n",
      "   317 10000   245   285   310   242   332    57   286    29   262   239\n",
      "   399  2400   209   206   318   337    38    30   500   259    11   315\n",
      "    56   241    42   233   232    10   292   257   460   288   247     9\n",
      "   338   237   302   299   271   273    25    43    58    52   221   377\n",
      "   352   287    20   303   435   430   384   355   258   324    47   243\n",
      "   323   284   294   297   269   373   219   272    46    24    51    36\n",
      "   293   282   559   266   264    41    32   325   261]\n"
     ]
    }
   ],
   "source": [
    "uniqueTempo = combinedDf.tempo_value.unique()\n",
    "lenUnqTempo = len(combinedDf.tempo_value.unique())\n",
    "\n",
    "\n",
    "print(f'Computer:\\n 1. Length Unique: {lenUnqTempo}\\n 2. Value: {uniqueTempo}')"
   ]
  },
  {
   "cell_type": "markdown",
   "metadata": {},
   "source": [
    "### Scale"
   ]
  },
  {
   "cell_type": "code",
   "execution_count": 16,
   "metadata": {},
   "outputs": [
    {
     "name": "stdout",
     "output_type": "stream",
     "text": [
      "Computer:\n",
      " 1. Length Unique: 2\n",
      " 2. Value: ['minor' 'major']\n"
     ]
    }
   ],
   "source": [
    "uniqueScale = combinedDf.scale.unique()\n",
    "lenUnqScale = len(combinedDf.scale.unique())\n",
    "\n",
    "\n",
    "print(f'Computer:\\n 1. Length Unique: {lenUnqScale}\\n 2. Value: {uniqueScale}')"
   ]
  },
  {
   "cell_type": "markdown",
   "metadata": {},
   "source": [
    "### Pitch Range"
   ]
  },
  {
   "cell_type": "code",
   "execution_count": 17,
   "metadata": {},
   "outputs": [
    {
     "name": "stdout",
     "output_type": "stream",
     "text": [
      "Computer:\n",
      " 1. Length Unique: 133\n",
      " 2. Value: ['m20' 'M34' 'P36' 'm21' 'P33' 'm13' 'M31' 'M17' 'm6' 'P19' 'M10' 'M28'\n",
      " 'M23' 'M20' 'M16' 'P1' 'm28' 'm7' 'm45' 'm14' 'm10' 'M35' 'P15' 'm38'\n",
      " 'P12' 'm17' 'm24' 'M13' 'm9' 'P29' 'd19' 'M21' 'P18' 'P22' 'P39' 'P26'\n",
      " 'M6' 'm31' 'm35' 'm23' 'm30' 'M3' 'M27' 'M9' 'P8' 'M14' 'P25' 'P11' 'M41'\n",
      " 'd33' 'M7' 'A11' 'P46' 'M30' 'M24' 'm37' 'm70' 'P4' 'M2' 'P40' 'P32' 'P5'\n",
      " 'm16' 'M49' 'd26' 'm34' 'P50' 'A18' 'P43' 'd40' 'm27' 'A46' 'M37' 'M48'\n",
      " 'M59' 'A25' 'm42' 'P53' 'd12' 'M44' 'M38' 'm3' 'M45' 'd5' 'm41' 'm48'\n",
      " 'm2' 'A32' 'M52' 'A27' 'P47' 'm55' 'M42' 'A40' 'm49' 'P57' 'M51' 'm52'\n",
      " 'P54' 'A4' 'A39' 'm44' 'm51' 'P64' 'A24' 'M56' 'A42' 'A53' 'd54' 'A23'\n",
      " 'P61' 'A43' 'P60' 'A20' 'M58' 'A9' 'A22' 'A26' 'M65' 'P68' 'A44' 'A29'\n",
      " 'A37' 'M55' 'A36' 'm56' 'A47' 'A38' 'A41' 'A34' 'A50' 'A45' 'A54']\n"
     ]
    }
   ],
   "source": [
    "uniquePitch = combinedDf.pitch_range.unique()\n",
    "lenUnqPitch = len(combinedDf.pitch_range.unique())\n",
    "\n",
    "\n",
    "print(f'Computer:\\n 1. Length Unique: {lenUnqPitch}\\n 2. Value: {uniquePitch}')"
   ]
  },
  {
   "cell_type": "markdown",
   "metadata": {},
   "source": [
    "## Outliers"
   ]
  },
  {
   "cell_type": "code",
   "execution_count": 18,
   "metadata": {},
   "outputs": [
    {
     "name": "stdout",
     "output_type": "stream",
     "text": [
      "Data Outliers:\n"
     ]
    },
    {
     "data": {
      "text/html": [
       "<div>\n",
       "<style scoped>\n",
       "    .dataframe tbody tr th:only-of-type {\n",
       "        vertical-align: middle;\n",
       "    }\n",
       "\n",
       "    .dataframe tbody tr th {\n",
       "        vertical-align: top;\n",
       "    }\n",
       "\n",
       "    .dataframe thead th {\n",
       "        text-align: right;\n",
       "    }\n",
       "</style>\n",
       "<table border=\"1\" class=\"dataframe\">\n",
       "  <thead>\n",
       "    <tr style=\"text-align: right;\">\n",
       "      <th></th>\n",
       "      <th>url</th>\n",
       "      <th>song_file</th>\n",
       "      <th>song_name</th>\n",
       "      <th>Credit</th>\n",
       "      <th>index</th>\n",
       "      <th>game</th>\n",
       "      <th>company</th>\n",
       "      <th>console</th>\n",
       "      <th>abc_notation</th>\n",
       "      <th>tempo_value</th>\n",
       "      <th>scale</th>\n",
       "      <th>pitch_range</th>\n",
       "    </tr>\n",
       "  </thead>\n",
       "  <tbody>\n",
       "    <tr>\n",
       "      <th>8332</th>\n",
       "      <td>https://www.vgmusic.com/music/console/nintendo...</td>\n",
       "      <td>WL3_day.mid</td>\n",
       "      <td>Map Daytime</td>\n",
       "      <td>TheYoungerPlumber\\n\\n</td>\n",
       "      <td>16161</td>\n",
       "      <td>Wario Land 3</td>\n",
       "      <td>nintendo</td>\n",
       "      <td>gameboy</td>\n",
       "      <td>X:1\\nT:Extracted Melody\\nM:4/4\\nK:C\\nQ:1/4=265...</td>\n",
       "      <td>265</td>\n",
       "      <td>major</td>\n",
       "      <td>m35</td>\n",
       "    </tr>\n",
       "    <tr>\n",
       "      <th>22166</th>\n",
       "      <td>https://www.vgmusic.com/music/console/nintendo...</td>\n",
       "      <td>ptomato.mid</td>\n",
       "      <td>Title Screen</td>\n",
       "      <td>Nick Harvey\\n\\n</td>\n",
       "      <td>25202</td>\n",
       "      <td>Princess Tomato in the Salad Kingdom</td>\n",
       "      <td>nintendo</td>\n",
       "      <td>nes</td>\n",
       "      <td>X:1\\nT:Extracted Melody\\nM:4/4\\nL:1/8\\nK:C\\nQ:...</td>\n",
       "      <td>12</td>\n",
       "      <td>major</td>\n",
       "      <td>M16</td>\n",
       "    </tr>\n",
       "    <tr>\n",
       "      <th>27119</th>\n",
       "      <td>https://www.vgmusic.com/music/console/nintendo...</td>\n",
       "      <td>mm3_chapter4.mid</td>\n",
       "      <td>Chapter 4</td>\n",
       "      <td>Marine\\n\\n</td>\n",
       "      <td>29116</td>\n",
       "      <td>Monster Maker III: Hikari no Majutsushi (Japan)</td>\n",
       "      <td>nintendo</td>\n",
       "      <td>snes</td>\n",
       "      <td>X:1\\nT:Extracted Melody\\nM:3/4\\nL:1/8\\nK:C\\nQ:...</td>\n",
       "      <td>240</td>\n",
       "      <td>minor</td>\n",
       "      <td>M27</td>\n",
       "    </tr>\n",
       "  </tbody>\n",
       "</table>\n",
       "</div>"
      ],
      "text/plain": [
       "                                                     url         song_file  \\\n",
       "8332   https://www.vgmusic.com/music/console/nintendo...       WL3_day.mid   \n",
       "22166  https://www.vgmusic.com/music/console/nintendo...       ptomato.mid   \n",
       "27119  https://www.vgmusic.com/music/console/nintendo...  mm3_chapter4.mid   \n",
       "\n",
       "          song_name                 Credit  index  \\\n",
       "8332    Map Daytime  TheYoungerPlumber\\n\\n  16161   \n",
       "22166  Title Screen        Nick Harvey\\n\\n  25202   \n",
       "27119     Chapter 4             Marine\\n\\n  29116   \n",
       "\n",
       "                                                  game   company  console  \\\n",
       "8332                                      Wario Land 3  nintendo  gameboy   \n",
       "22166             Princess Tomato in the Salad Kingdom  nintendo      nes   \n",
       "27119  Monster Maker III: Hikari no Majutsushi (Japan)  nintendo     snes   \n",
       "\n",
       "                                            abc_notation  tempo_value  scale  \\\n",
       "8332   X:1\\nT:Extracted Melody\\nM:4/4\\nK:C\\nQ:1/4=265...          265  major   \n",
       "22166  X:1\\nT:Extracted Melody\\nM:4/4\\nL:1/8\\nK:C\\nQ:...           12  major   \n",
       "27119  X:1\\nT:Extracted Melody\\nM:3/4\\nL:1/8\\nK:C\\nQ:...          240  minor   \n",
       "\n",
       "      pitch_range  \n",
       "8332          m35  \n",
       "22166         M16  \n",
       "27119         M27  "
      ]
     },
     "execution_count": 18,
     "metadata": {},
     "output_type": "execute_result"
    }
   ],
   "source": [
    "\n",
    "def detect_outliers_iqr(data, column):\n",
    "    \"\"\"\n",
    "    Detect outliers in a dataframe column using the IQR method.\n",
    "    \n",
    "    Parameters:\n",
    "    data (pd.DataFrame): The input dataframe.\n",
    "    column (str): The name of the column to check for outliers.\n",
    "    \n",
    "    Returns:\n",
    "    tuple: lower_bound, upper_bound, outliers DataFrame\n",
    "    \"\"\"\n",
    "    Q1 = data[column].quantile(0.25)\n",
    "    Q3 = data[column].quantile(0.75)\n",
    "    IQR = Q3 - Q1\n",
    "\n",
    "    lower_bound = Q1 - 1.5 * IQR\n",
    "    upper_bound = Q3 + 1.5 * IQR\n",
    "\n",
    "    outliers = data[(data[column] < lower_bound) | (data[column] > upper_bound)]\n",
    "    return lower_bound, upper_bound, outliers\n",
    "\n",
    "\n",
    "# Mendeteksi outliers pada kolom 'tempo_value'\n",
    "lower_bound, upper_bound, outliers = detect_outliers_iqr(combinedDf, 'tempo_value')\n",
    "\n",
    "# Menghapus outliers dari DataFrame\n",
    "filtered_data = combinedDf[(combinedDf['tempo_value'] >= lower_bound) & (combinedDf['tempo_value'] <= upper_bound)]\n",
    "\n",
    "print(\"Data Outliers:\")\n",
    "outliers.sample(3)"
   ]
  },
  {
   "cell_type": "code",
   "execution_count": 19,
   "metadata": {},
   "outputs": [
    {
     "data": {
      "image/png": "[encoded data removed]",
      "text/plain": [
       "<Figure size 1000x600 with 1 Axes>"
      ]
     },
     "metadata": {},
     "output_type": "display_data"
    }
   ],
   "source": [
    "# Membuat boxplot\n",
    "plt.figure(figsize=(10, 6))\n",
    "plt.boxplot(filtered_data['tempo_value'], vert=False)\n",
    "plt.xlabel('Tempo Value')\n",
    "plt.title('Boxplot of Tempo Values with Outliers Highlighted')\n",
    "plt.show()"
   ]
  },
  {
   "cell_type": "code",
   "execution_count": 20,
   "metadata": {},
   "outputs": [
    {
     "data": {
      "text/plain": [
       "(35208, 12)"
      ]
     },
     "execution_count": 20,
     "metadata": {},
     "output_type": "execute_result"
    }
   ],
   "source": [
    "filteredData = filtered_data\n",
    "filteredData.shape"
   ]
  },
  {
   "cell_type": "markdown",
   "metadata": {},
   "source": [
    "## Cek Nilai Unique Kembali"
   ]
  },
  {
   "cell_type": "markdown",
   "metadata": {},
   "source": [
    "### Tempo Value"
   ]
  },
  {
   "cell_type": "code",
   "execution_count": 21,
   "metadata": {},
   "outputs": [
    {
     "name": "stdout",
     "output_type": "stream",
     "text": [
      "Computer:\n",
      " 1. Length Unique: 156\n",
      " 2. Value: [ 96 120 150 185 140  60  80 129 109  89 160 125 126 110  85 135 105  99\n",
      " 113 180 116 132 137 117 130 112 100 134 200  97 145 190 123 131 104 144\n",
      " 162 177 122  93 107  63 148 152 170 124 186 127 111  83  75 158  90 195\n",
      "  95  94 143  84 199 138 156 182 103 163 187  91 128  71  67  72 166 136\n",
      " 153 115  73 164 114 179 165 175 154  64  65  59 151 159 102 142  82 118\n",
      " 108 119  98 133 157 106 172 168  69  79 155 147  62  74 176 205 184 146\n",
      " 188 208 173 174 207  92 101 181 141  77 171  76 169 121  70  55 161 167\n",
      " 204 192  87 196 197 139 178 194 149 198  88 191 183  61  53  78  54  68\n",
      "  86  66 201 202  81 189 193 203  57 206  56  58]\n"
     ]
    }
   ],
   "source": [
    "uniqueTempo = filteredData.tempo_value.unique()\n",
    "lenUnqTempo = len(filteredData.tempo_value.unique())\n",
    "\n",
    "\n",
    "print(f'Computer:\\n 1. Length Unique: {lenUnqTempo}\\n 2. Value: {uniqueTempo}')"
   ]
  },
  {
   "cell_type": "markdown",
   "metadata": {},
   "source": [
    "### Scale"
   ]
  },
  {
   "cell_type": "code",
   "execution_count": 22,
   "metadata": {},
   "outputs": [
    {
     "name": "stdout",
     "output_type": "stream",
     "text": [
      "Computer:\n",
      " 1. Length Unique: 2\n",
      " 2. Value: ['minor' 'major']\n"
     ]
    }
   ],
   "source": [
    "uniqueScale = filteredData.scale.unique()\n",
    "lenUnqScale = len(filteredData.scale.unique())\n",
    "\n",
    "\n",
    "print(f'Computer:\\n 1. Length Unique: {lenUnqScale}\\n 2. Value: {uniqueScale}')"
   ]
  },
  {
   "cell_type": "markdown",
   "metadata": {},
   "source": [
    "### Pitch Range"
   ]
  },
  {
   "cell_type": "code",
   "execution_count": 23,
   "metadata": {},
   "outputs": [
    {
     "name": "stdout",
     "output_type": "stream",
     "text": [
      "Computer:\n",
      " 1. Length Unique: 130\n",
      " 2. Value: ['M34' 'P36' 'm21' 'P33' 'm13' 'M31' 'M17' 'm6' 'P19' 'M10' 'M28' 'M23'\n",
      " 'M20' 'M16' 'P1' 'm28' 'm7' 'm45' 'm14' 'm10' 'M35' 'P15' 'm38' 'P12'\n",
      " 'm17' 'm24' 'M13' 'm9' 'P29' 'd19' 'M21' 'P18' 'm20' 'P22' 'P39' 'P26'\n",
      " 'M6' 'm31' 'm35' 'm23' 'm30' 'M3' 'M27' 'M9' 'P8' 'M14' 'P25' 'P11' 'M41'\n",
      " 'd33' 'M7' 'A11' 'P46' 'M30' 'M24' 'm37' 'm70' 'P4' 'M2' 'P40' 'P32' 'P5'\n",
      " 'm16' 'M49' 'd26' 'm34' 'P50' 'A18' 'P43' 'd40' 'm27' 'A46' 'M37' 'M48'\n",
      " 'M59' 'A25' 'm42' 'P53' 'd12' 'M38' 'm3' 'M45' 'd5' 'm41' 'm48' 'm2'\n",
      " 'A32' 'M52' 'A27' 'P47' 'm55' 'M42' 'M44' 'A40' 'm49' 'P57' 'M51' 'm52'\n",
      " 'P54' 'A4' 'A39' 'm44' 'm51' 'A24' 'M56' 'A42' 'A53' 'd54' 'A23' 'P61'\n",
      " 'A43' 'P60' 'A20' 'A9' 'A22' 'A26' 'M65' 'P68' 'A44' 'A29' 'A37' 'M55'\n",
      " 'A36' 'm56' 'A47' 'A38' 'A41' 'A50' 'A45' 'A54']\n"
     ]
    }
   ],
   "source": [
    "uniquePitch = filteredData.pitch_range.unique()\n",
    "lenUnqPitch = len(filteredData.pitch_range.unique())\n",
    "\n",
    "\n",
    "print(f'Computer:\\n 1. Length Unique: {lenUnqPitch}\\n 2. Value: {uniquePitch}')"
   ]
  },
  {
   "cell_type": "markdown",
   "metadata": {},
   "source": [
    "# Data Preparation"
   ]
  },
  {
   "cell_type": "markdown",
   "metadata": {},
   "source": [
    "### Labeling Suasana"
   ]
  },
  {
   "cell_type": "code",
   "execution_count": 24,
   "metadata": {},
   "outputs": [],
   "source": [
    "def tempoLabeling(row):\n",
    "    tempo = row['tempo_value']\n",
    "    scale = row['scale']\n",
    "    \n",
    "    if scale == 'minor':\n",
    "        if tempo < 90:\n",
    "            return 'Sedih, Gelap'\n",
    "        elif 90 <= tempo <= 150:\n",
    "            return 'Tegang, Serius'\n",
    "        else:\n",
    "            return 'Tegang, Intens'\n",
    "    elif scale == 'major':\n",
    "        if tempo < 90:\n",
    "            return 'Tenang, Menenangkan'\n",
    "        elif 90 <= tempo <= 150:\n",
    "            return 'Netral, Bahagia'\n",
    "        else:\n",
    "            return 'Energetik, Bergairah'"
   ]
  },
  {
   "cell_type": "code",
   "execution_count": 25,
   "metadata": {},
   "outputs": [
    {
     "name": "stderr",
     "output_type": "stream",
     "text": [
      "C:\\Users\\legion\\AppData\\Local\\Temp\\ipykernel_292648\\3775430285.py:1: SettingWithCopyWarning: \n",
      "A value is trying to be set on a copy of a slice from a DataFrame.\n",
      "Try using .loc[row_indexer,col_indexer] = value instead\n",
      "\n",
      "See the caveats in the documentation: https://pandas.pydata.org/pandas-docs/stable/user_guide/indexing.html#returning-a-view-versus-a-copy\n",
      "  filteredData['suasana'] = filteredData.apply(tempoLabeling, axis=1)\n"
     ]
    }
   ],
   "source": [
    "filteredData['suasana'] = filteredData.apply(tempoLabeling, axis=1)"
   ]
  },
  {
   "cell_type": "code",
   "execution_count": 26,
   "metadata": {},
   "outputs": [
    {
     "data": {
      "text/plain": [
       "url             0\n",
       "song_file       0\n",
       "song_name       0\n",
       "Credit          0\n",
       "index           0\n",
       "game            0\n",
       "company         0\n",
       "console         0\n",
       "abc_notation    0\n",
       "tempo_value     0\n",
       "scale           0\n",
       "pitch_range     0\n",
       "suasana         0\n",
       "dtype: int64"
      ]
     },
     "execution_count": 26,
     "metadata": {},
     "output_type": "execute_result"
    }
   ],
   "source": [
    "filteredData.isnull().sum()"
   ]
  },
  {
   "cell_type": "code",
   "execution_count": 28,
   "metadata": {},
   "outputs": [
    {
     "data": {
      "text/plain": [
       "'Chronicles_of_Omega_-_Title.mid'"
      ]
     },
     "execution_count": 28,
     "metadata": {},
     "output_type": "execute_result"
    }
   ],
   "source": [
    "filtered_data.song_file.iloc[42]"
   ]
  },
  {
   "cell_type": "code",
   "execution_count": null,
   "metadata": {},
   "outputs": [],
   "source": [
    "# Extract Dataset Bersih\n",
    "filteredData.to_csv(f'{ROOT_DATA}/clean/clean_melody_data.csv')"
   ]
  }
 ],
 "metadata": {
  "kernelspec": {
   "display_name": "datmin",
   "language": "python",
   "name": "python3"
  },
  "language_info": {
   "codemirror_mode": {
    "name": "ipython",
    "version": 3
   },
   "file_extension": ".py",
   "mimetype": "text/x-python",
   "name": "python",
   "nbconvert_exporter": "python",
   "pygments_lexer": "ipython3",
   "version": "3.12.2"
  }
 },
 "nbformat": 4,
 "nbformat_minor": 2
}
